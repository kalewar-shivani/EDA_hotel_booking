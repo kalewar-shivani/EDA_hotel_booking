{
 "cells": [
  {
   "cell_type": "markdown",
   "metadata": {},
   "source": [
    "<link rel=\"preconnect\" href=\"https://fonts.googleapis.com\"> \n",
    "<link rel=\"preconnect\" href=\"https://fonts.gstatic.com\" crossorigin> \n",
    "<link href=\"https://fonts.googleapis.com/css2?family=Baloo+Bhaijaan+2:wght@600&display=swap\" rel=\"stylesheet\">\n",
    "\n"
   ]
  },
  {
   "cell_type": "markdown",
   "metadata": {},
   "source": [
    "#\n",
    "\n",
    "<div style=\"font-family: Helvetica; color: #7798ab; padding:5px; background-color: white\">\n",
    "    <br>\n",
    "    <h1>🏨 Hotel Dataset Analysis for Cancelation </h1>\n",
    "    <p style=\"color:black;\">Designed and Analyized <b>by Shivani Kalewar</b> for IST 687</p>\n",
    "    <br>\n",
    "    <br>\n",
    "</div>\n",
    "   \n"
   ]
  },
  {
   "cell_type": "markdown",
   "metadata": {},
   "source": [
    "*Importing required libraries*"
   ]
  },
  {
   "cell_type": "code",
   "execution_count": 83,
   "metadata": {},
   "outputs": [],
   "source": [
    "# Library Imports\n",
    "import pandas as pd\n",
    "import numpy as np\n",
    "import seaborn as sns\n",
    "import matplotlib.pyplot as plt"
   ]
  },
  {
   "cell_type": "code",
   "execution_count": 84,
   "metadata": {},
   "outputs": [],
   "source": [
    "df = pd.read_csv(\"Resort01.csv\")"
   ]
  },
  {
   "cell_type": "markdown",
   "metadata": {},
   "source": [
    "## Database Preview"
   ]
  },
  {
   "cell_type": "markdown",
   "metadata": {},
   "source": [
    "### Database Column and Shape Analysis"
   ]
  },
  {
   "cell_type": "code",
   "execution_count": 85,
   "metadata": {},
   "outputs": [
    {
     "name": "stdout",
     "output_type": "stream",
     "text": [
      "dataset shape:  (40060, 20)\n",
      "<class 'pandas.core.frame.DataFrame'>\n",
      "RangeIndex: 40060 entries, 0 to 40059\n",
      "Data columns (total 20 columns):\n",
      " #   Column                       Non-Null Count  Dtype \n",
      "---  ------                       --------------  ----- \n",
      " 0   IsCanceled                   40060 non-null  int64 \n",
      " 1   LeadTime                     40060 non-null  int64 \n",
      " 2   StaysInWeekendNights         40060 non-null  int64 \n",
      " 3   StaysInWeekNights            40060 non-null  int64 \n",
      " 4   Adults                       40060 non-null  int64 \n",
      " 5   Children                     40060 non-null  int64 \n",
      " 6   Babies                       40060 non-null  int64 \n",
      " 7   Meal                         40060 non-null  object\n",
      " 8   Country                      39596 non-null  object\n",
      " 9   MarketSegment                40060 non-null  object\n",
      " 10  IsRepeatedGuest              40060 non-null  int64 \n",
      " 11  PreviousCancellations        40060 non-null  int64 \n",
      " 12  PreviousBookingsNotCanceled  40060 non-null  int64 \n",
      " 13  ReservedRoomType             40060 non-null  object\n",
      " 14  AssignedRoomType             40060 non-null  object\n",
      " 15  BookingChanges               40060 non-null  int64 \n",
      " 16  DepositType                  40060 non-null  object\n",
      " 17  CustomerType                 40060 non-null  object\n",
      " 18  RequiredCarParkingSpaces     40060 non-null  int64 \n",
      " 19  TotalOfSpecialRequests       40060 non-null  int64 \n",
      "dtypes: int64(13), object(7)\n",
      "memory usage: 6.1+ MB\n",
      "None\n"
     ]
    }
   ],
   "source": [
    "\n",
    "print(\"dataset shape: \", df.shape)\n",
    "print(df.info())\n",
    "\n",
    "\n",
    "# Thera are 40060 rows in the dataset. We can see there are only null values in the Country attribute. "
   ]
  },
  {
   "cell_type": "code",
   "execution_count": 328,
   "metadata": {},
   "outputs": [
    {
     "data": {
      "text/plain": [
       "IsCanceled  IsCanceled\n",
       "0           0             28938\n",
       "1           1             11122\n",
       "Name: IsCanceled, dtype: int64"
      ]
     },
     "execution_count": 328,
     "metadata": {},
     "output_type": "execute_result"
    }
   ],
   "source": [
    "df.groupby('IsCanceled')['IsCanceled'].value_counts()"
   ]
  },
  {
   "cell_type": "code",
   "execution_count": 86,
   "metadata": {},
   "outputs": [
    {
     "name": "stdout",
     "output_type": "stream",
     "text": [
      "There are  7  categorical columns in the dataset\n",
      "Index(['Meal', 'Country', 'MarketSegment', 'ReservedRoomType',\n",
      "       'AssignedRoomType', 'DepositType', 'CustomerType'],\n",
      "      dtype='object')\n",
      "There are  12  numeric values in the dataset.\n",
      "Index(['LeadTime', 'StaysInWeekendNights', 'StaysInWeekNights', 'Adults',\n",
      "       'Children', 'Babies', 'IsRepeatedGuest', 'PreviousCancellations',\n",
      "       'PreviousBookingsNotCanceled', 'BookingChanges',\n",
      "       'RequiredCarParkingSpaces', 'TotalOfSpecialRequests'],\n",
      "      dtype='object')\n",
      "outcome column ignored\n"
     ]
    }
   ],
   "source": [
    "categorical_cols = df.select_dtypes(include=['object']).columns\n",
    "print(\"There are \", len(categorical_cols), \" categorical columns in the dataset\")\n",
    "print(categorical_cols)\n",
    "\n",
    "numeric_cols = df.select_dtypes(include=['int64']).drop(['IsCanceled'], axis=1).columns\n",
    "print(\"There are \", len(numeric_cols), \" numeric values in the dataset.\")\n",
    "print(numeric_cols)\n",
    "print(\"outcome column ignored\")"
   ]
  },
  {
   "cell_type": "code",
   "execution_count": 87,
   "metadata": {},
   "outputs": [
    {
     "data": {
      "text/html": [
       "<div>\n",
       "<style scoped>\n",
       "    .dataframe tbody tr th:only-of-type {\n",
       "        vertical-align: middle;\n",
       "    }\n",
       "\n",
       "    .dataframe tbody tr th {\n",
       "        vertical-align: top;\n",
       "    }\n",
       "\n",
       "    .dataframe thead th {\n",
       "        text-align: right;\n",
       "    }\n",
       "</style>\n",
       "<table border=\"1\" class=\"dataframe\">\n",
       "  <thead>\n",
       "    <tr style=\"text-align: right;\">\n",
       "      <th></th>\n",
       "      <th>LeadTime</th>\n",
       "      <th>StaysInWeekendNights</th>\n",
       "      <th>StaysInWeekNights</th>\n",
       "      <th>Adults</th>\n",
       "      <th>Children</th>\n",
       "      <th>Babies</th>\n",
       "      <th>IsRepeatedGuest</th>\n",
       "      <th>PreviousCancellations</th>\n",
       "      <th>PreviousBookingsNotCanceled</th>\n",
       "      <th>BookingChanges</th>\n",
       "      <th>RequiredCarParkingSpaces</th>\n",
       "      <th>TotalOfSpecialRequests</th>\n",
       "    </tr>\n",
       "  </thead>\n",
       "  <tbody>\n",
       "    <tr>\n",
       "      <th>count</th>\n",
       "      <td>40060.000000</td>\n",
       "      <td>40060.000000</td>\n",
       "      <td>40060.000000</td>\n",
       "      <td>40060.000000</td>\n",
       "      <td>40060.000000</td>\n",
       "      <td>40060.000000</td>\n",
       "      <td>40060.000000</td>\n",
       "      <td>40060.000000</td>\n",
       "      <td>40060.000000</td>\n",
       "      <td>40060.000000</td>\n",
       "      <td>40060.000000</td>\n",
       "      <td>40060.00000</td>\n",
       "    </tr>\n",
       "    <tr>\n",
       "      <th>mean</th>\n",
       "      <td>92.675686</td>\n",
       "      <td>1.189815</td>\n",
       "      <td>3.128732</td>\n",
       "      <td>1.867149</td>\n",
       "      <td>0.128682</td>\n",
       "      <td>0.013904</td>\n",
       "      <td>0.044383</td>\n",
       "      <td>0.101722</td>\n",
       "      <td>0.146455</td>\n",
       "      <td>0.287968</td>\n",
       "      <td>0.138068</td>\n",
       "      <td>0.61977</td>\n",
       "    </tr>\n",
       "    <tr>\n",
       "      <th>std</th>\n",
       "      <td>97.285315</td>\n",
       "      <td>1.147812</td>\n",
       "      <td>2.461329</td>\n",
       "      <td>0.697285</td>\n",
       "      <td>0.445195</td>\n",
       "      <td>0.118998</td>\n",
       "      <td>0.205948</td>\n",
       "      <td>1.335115</td>\n",
       "      <td>1.001955</td>\n",
       "      <td>0.726548</td>\n",
       "      <td>0.351001</td>\n",
       "      <td>0.81393</td>\n",
       "    </tr>\n",
       "    <tr>\n",
       "      <th>min</th>\n",
       "      <td>0.000000</td>\n",
       "      <td>0.000000</td>\n",
       "      <td>0.000000</td>\n",
       "      <td>0.000000</td>\n",
       "      <td>0.000000</td>\n",
       "      <td>0.000000</td>\n",
       "      <td>0.000000</td>\n",
       "      <td>0.000000</td>\n",
       "      <td>0.000000</td>\n",
       "      <td>0.000000</td>\n",
       "      <td>0.000000</td>\n",
       "      <td>0.00000</td>\n",
       "    </tr>\n",
       "    <tr>\n",
       "      <th>25%</th>\n",
       "      <td>10.000000</td>\n",
       "      <td>0.000000</td>\n",
       "      <td>1.000000</td>\n",
       "      <td>2.000000</td>\n",
       "      <td>0.000000</td>\n",
       "      <td>0.000000</td>\n",
       "      <td>0.000000</td>\n",
       "      <td>0.000000</td>\n",
       "      <td>0.000000</td>\n",
       "      <td>0.000000</td>\n",
       "      <td>0.000000</td>\n",
       "      <td>0.00000</td>\n",
       "    </tr>\n",
       "    <tr>\n",
       "      <th>50%</th>\n",
       "      <td>57.000000</td>\n",
       "      <td>1.000000</td>\n",
       "      <td>3.000000</td>\n",
       "      <td>2.000000</td>\n",
       "      <td>0.000000</td>\n",
       "      <td>0.000000</td>\n",
       "      <td>0.000000</td>\n",
       "      <td>0.000000</td>\n",
       "      <td>0.000000</td>\n",
       "      <td>0.000000</td>\n",
       "      <td>0.000000</td>\n",
       "      <td>0.00000</td>\n",
       "    </tr>\n",
       "    <tr>\n",
       "      <th>75%</th>\n",
       "      <td>155.000000</td>\n",
       "      <td>2.000000</td>\n",
       "      <td>5.000000</td>\n",
       "      <td>2.000000</td>\n",
       "      <td>0.000000</td>\n",
       "      <td>0.000000</td>\n",
       "      <td>0.000000</td>\n",
       "      <td>0.000000</td>\n",
       "      <td>0.000000</td>\n",
       "      <td>0.000000</td>\n",
       "      <td>0.000000</td>\n",
       "      <td>1.00000</td>\n",
       "    </tr>\n",
       "    <tr>\n",
       "      <th>max</th>\n",
       "      <td>737.000000</td>\n",
       "      <td>19.000000</td>\n",
       "      <td>50.000000</td>\n",
       "      <td>55.000000</td>\n",
       "      <td>10.000000</td>\n",
       "      <td>2.000000</td>\n",
       "      <td>1.000000</td>\n",
       "      <td>26.000000</td>\n",
       "      <td>30.000000</td>\n",
       "      <td>17.000000</td>\n",
       "      <td>8.000000</td>\n",
       "      <td>5.00000</td>\n",
       "    </tr>\n",
       "  </tbody>\n",
       "</table>\n",
       "</div>"
      ],
      "text/plain": [
       "           LeadTime  StaysInWeekendNights  StaysInWeekNights        Adults  \\\n",
       "count  40060.000000          40060.000000       40060.000000  40060.000000   \n",
       "mean      92.675686              1.189815           3.128732      1.867149   \n",
       "std       97.285315              1.147812           2.461329      0.697285   \n",
       "min        0.000000              0.000000           0.000000      0.000000   \n",
       "25%       10.000000              0.000000           1.000000      2.000000   \n",
       "50%       57.000000              1.000000           3.000000      2.000000   \n",
       "75%      155.000000              2.000000           5.000000      2.000000   \n",
       "max      737.000000             19.000000          50.000000     55.000000   \n",
       "\n",
       "           Children        Babies  IsRepeatedGuest  PreviousCancellations  \\\n",
       "count  40060.000000  40060.000000     40060.000000           40060.000000   \n",
       "mean       0.128682      0.013904         0.044383               0.101722   \n",
       "std        0.445195      0.118998         0.205948               1.335115   \n",
       "min        0.000000      0.000000         0.000000               0.000000   \n",
       "25%        0.000000      0.000000         0.000000               0.000000   \n",
       "50%        0.000000      0.000000         0.000000               0.000000   \n",
       "75%        0.000000      0.000000         0.000000               0.000000   \n",
       "max       10.000000      2.000000         1.000000              26.000000   \n",
       "\n",
       "       PreviousBookingsNotCanceled  BookingChanges  RequiredCarParkingSpaces  \\\n",
       "count                 40060.000000    40060.000000              40060.000000   \n",
       "mean                      0.146455        0.287968                  0.138068   \n",
       "std                       1.001955        0.726548                  0.351001   \n",
       "min                       0.000000        0.000000                  0.000000   \n",
       "25%                       0.000000        0.000000                  0.000000   \n",
       "50%                       0.000000        0.000000                  0.000000   \n",
       "75%                       0.000000        0.000000                  0.000000   \n",
       "max                      30.000000       17.000000                  8.000000   \n",
       "\n",
       "       TotalOfSpecialRequests  \n",
       "count             40060.00000  \n",
       "mean                  0.61977  \n",
       "std                   0.81393  \n",
       "min                   0.00000  \n",
       "25%                   0.00000  \n",
       "50%                   0.00000  \n",
       "75%                   1.00000  \n",
       "max                   5.00000  "
      ]
     },
     "execution_count": 87,
     "metadata": {},
     "output_type": "execute_result"
    }
   ],
   "source": [
    "df[numeric_cols].describe()"
   ]
  },
  {
   "cell_type": "code",
   "execution_count": 88,
   "metadata": {},
   "outputs": [
    {
     "data": {
      "text/html": [
       "<div>\n",
       "<style scoped>\n",
       "    .dataframe tbody tr th:only-of-type {\n",
       "        vertical-align: middle;\n",
       "    }\n",
       "\n",
       "    .dataframe tbody tr th {\n",
       "        vertical-align: top;\n",
       "    }\n",
       "\n",
       "    .dataframe thead th {\n",
       "        text-align: right;\n",
       "    }\n",
       "</style>\n",
       "<table border=\"1\" class=\"dataframe\">\n",
       "  <thead>\n",
       "    <tr style=\"text-align: right;\">\n",
       "      <th></th>\n",
       "      <th>Meal</th>\n",
       "      <th>Country</th>\n",
       "      <th>MarketSegment</th>\n",
       "      <th>ReservedRoomType</th>\n",
       "      <th>AssignedRoomType</th>\n",
       "      <th>DepositType</th>\n",
       "      <th>CustomerType</th>\n",
       "    </tr>\n",
       "  </thead>\n",
       "  <tbody>\n",
       "    <tr>\n",
       "      <th>count</th>\n",
       "      <td>40060</td>\n",
       "      <td>39596</td>\n",
       "      <td>40060</td>\n",
       "      <td>40060</td>\n",
       "      <td>40060</td>\n",
       "      <td>40060</td>\n",
       "      <td>40060</td>\n",
       "    </tr>\n",
       "    <tr>\n",
       "      <th>unique</th>\n",
       "      <td>5</td>\n",
       "      <td>125</td>\n",
       "      <td>6</td>\n",
       "      <td>10</td>\n",
       "      <td>11</td>\n",
       "      <td>3</td>\n",
       "      <td>4</td>\n",
       "    </tr>\n",
       "    <tr>\n",
       "      <th>top</th>\n",
       "      <td>BB</td>\n",
       "      <td>PRT</td>\n",
       "      <td>Online TA</td>\n",
       "      <td>A</td>\n",
       "      <td>A</td>\n",
       "      <td>No Deposit</td>\n",
       "      <td>Transient</td>\n",
       "    </tr>\n",
       "    <tr>\n",
       "      <th>freq</th>\n",
       "      <td>30005</td>\n",
       "      <td>17630</td>\n",
       "      <td>17729</td>\n",
       "      <td>23399</td>\n",
       "      <td>17046</td>\n",
       "      <td>38199</td>\n",
       "      <td>30209</td>\n",
       "    </tr>\n",
       "  </tbody>\n",
       "</table>\n",
       "</div>"
      ],
      "text/plain": [
       "             Meal Country MarketSegment  ReservedRoomType  AssignedRoomType  \\\n",
       "count       40060   39596         40060             40060             40060   \n",
       "unique          5     125             6                10                11   \n",
       "top     BB            PRT     Online TA  A                 A                  \n",
       "freq        30005   17630         17729             23399             17046   \n",
       "\n",
       "            DepositType CustomerType  \n",
       "count             40060        40060  \n",
       "unique                3            4  \n",
       "top     No Deposit         Transient  \n",
       "freq              38199        30209  "
      ]
     },
     "execution_count": 88,
     "metadata": {},
     "output_type": "execute_result"
    }
   ],
   "source": [
    "df[categorical_cols].describe()"
   ]
  },
  {
   "cell_type": "markdown",
   "metadata": {},
   "source": [
    "### Unique Value Analysis"
   ]
  },
  {
   "cell_type": "code",
   "execution_count": 89,
   "metadata": {},
   "outputs": [
    {
     "name": "stdout",
     "output_type": "stream",
     "text": [
      "Attribute                           | unique |      values\n",
      "----------------------------------- | ------ | -----------------------------\n",
      "IsCanceled                          \t 2     [0 1]\n",
      "LeadTime                            \t 412      \n",
      "StaysInWeekendNights                \t 16       \n",
      "StaysInWeekNights                   \t 31       \n",
      "Adults                              \t 14       \n",
      "Children                            \t 5     [ 0  1  2 10  3]\n",
      "Babies                              \t 3     [0 1 2]\n",
      "Meal                                \t 5     ['BB       ' 'FB       ' 'HB       ' 'SC       ' 'Undefined']\n",
      "Country                             \t 126      \n",
      "MarketSegment                       \t 6     ['Direct' 'Corporate' 'Online TA' 'Offline TA/TO' 'Complementary' 'Groups']\n",
      "IsRepeatedGuest                     \t 2     [0 1]\n",
      "PreviousCancellations               \t 11       \n",
      "PreviousBookingsNotCanceled         \t 31       \n",
      "ReservedRoomType                    \t 10       \n",
      "AssignedRoomType                    \t 11       \n",
      "BookingChanges                      \t 15       \n",
      "DepositType                         \t 3     ['No Deposit     ' 'Refundable     ' 'Non Refund     ']\n",
      "CustomerType                        \t 4     ['Transient' 'Contract' 'Transient-Party' 'Group']\n",
      "RequiredCarParkingSpaces            \t 5     [0 1 2 8 3]\n",
      "TotalOfSpecialRequests              \t 6     [0 1 3 2 4 5]\n"
     ]
    }
   ],
   "source": [
    "# Analyzing unique values\n",
    "# Checking all unique values in both categorical as well as numeric attributes\n",
    "\n",
    "print(\"{:35} {:5} {:<10}\" .format ('Attribute', '| unique |', '     values'))\n",
    "print(\"{:35} {:2} {:3}\" .format ('-----------------------------------', '| ------ |', '-----------------------------'))\n",
    "for i in df.columns:\n",
    "    \n",
    "    print(\"{:35} \\t {:5} {:3}\" .format (i, str(len(df[i].unique())), str(df[i].unique()) if len(df[i].unique()) < 8 else ''))\n"
   ]
  },
  {
   "cell_type": "code",
   "execution_count": 138,
   "metadata": {},
   "outputs": [
    {
     "data": {
      "text/html": [
       "<div>\n",
       "<style scoped>\n",
       "    .dataframe tbody tr th:only-of-type {\n",
       "        vertical-align: middle;\n",
       "    }\n",
       "\n",
       "    .dataframe tbody tr th {\n",
       "        vertical-align: top;\n",
       "    }\n",
       "\n",
       "    .dataframe thead th {\n",
       "        text-align: right;\n",
       "    }\n",
       "</style>\n",
       "<table border=\"1\" class=\"dataframe\">\n",
       "  <thead>\n",
       "    <tr style=\"text-align: right;\">\n",
       "      <th></th>\n",
       "      <th>IsCanceled</th>\n",
       "      <th>LeadTime</th>\n",
       "      <th>StaysInWeekendNights</th>\n",
       "      <th>StaysInWeekNights</th>\n",
       "      <th>Adults</th>\n",
       "      <th>Children</th>\n",
       "      <th>Babies</th>\n",
       "      <th>Meal</th>\n",
       "      <th>Country</th>\n",
       "      <th>MarketSegment</th>\n",
       "      <th>...</th>\n",
       "      <th>DepositType</th>\n",
       "      <th>CustomerType</th>\n",
       "      <th>RequiredCarParkingSpaces</th>\n",
       "      <th>TotalOfSpecialRequests</th>\n",
       "      <th>totalMembers</th>\n",
       "      <th>roomDiff</th>\n",
       "      <th>totalStayDays</th>\n",
       "      <th>isFamily</th>\n",
       "      <th>cancelRate</th>\n",
       "      <th>isWeekend</th>\n",
       "    </tr>\n",
       "  </thead>\n",
       "  <tbody>\n",
       "    <tr>\n",
       "      <th>29045</th>\n",
       "      <td>0</td>\n",
       "      <td>26</td>\n",
       "      <td>0</td>\n",
       "      <td>5</td>\n",
       "      <td>2</td>\n",
       "      <td>0</td>\n",
       "      <td>0</td>\n",
       "      <td>HB</td>\n",
       "      <td>AUT</td>\n",
       "      <td>Direct</td>\n",
       "      <td>...</td>\n",
       "      <td>No Deposit</td>\n",
       "      <td>Transient-Party</td>\n",
       "      <td>8</td>\n",
       "      <td>1</td>\n",
       "      <td>2</td>\n",
       "      <td>1</td>\n",
       "      <td>5</td>\n",
       "      <td>0</td>\n",
       "      <td>0.0</td>\n",
       "      <td>0</td>\n",
       "    </tr>\n",
       "    <tr>\n",
       "      <th>29046</th>\n",
       "      <td>0</td>\n",
       "      <td>138</td>\n",
       "      <td>2</td>\n",
       "      <td>2</td>\n",
       "      <td>2</td>\n",
       "      <td>0</td>\n",
       "      <td>0</td>\n",
       "      <td>HB</td>\n",
       "      <td>AUT</td>\n",
       "      <td>Direct</td>\n",
       "      <td>...</td>\n",
       "      <td>No Deposit</td>\n",
       "      <td>Transient-Party</td>\n",
       "      <td>8</td>\n",
       "      <td>0</td>\n",
       "      <td>2</td>\n",
       "      <td>1</td>\n",
       "      <td>4</td>\n",
       "      <td>0</td>\n",
       "      <td>0.0</td>\n",
       "      <td>1</td>\n",
       "    </tr>\n",
       "  </tbody>\n",
       "</table>\n",
       "<p>2 rows × 26 columns</p>\n",
       "</div>"
      ],
      "text/plain": [
       "       IsCanceled  LeadTime  StaysInWeekendNights  StaysInWeekNights  Adults  \\\n",
       "29045           0        26                     0                  5       2   \n",
       "29046           0       138                     2                  2       2   \n",
       "\n",
       "       Children  Babies       Meal Country MarketSegment  ...  \\\n",
       "29045         0       0  HB            AUT        Direct  ...   \n",
       "29046         0       0  HB            AUT        Direct  ...   \n",
       "\n",
       "           DepositType     CustomerType  RequiredCarParkingSpaces  \\\n",
       "29045  No Deposit       Transient-Party                         8   \n",
       "29046  No Deposit       Transient-Party                         8   \n",
       "\n",
       "      TotalOfSpecialRequests totalMembers  roomDiff totalStayDays isFamily  \\\n",
       "29045                      1            2         1             5        0   \n",
       "29046                      0            2         1             4        0   \n",
       "\n",
       "       cancelRate  isWeekend  \n",
       "29045         0.0          0  \n",
       "29046         0.0          1  \n",
       "\n",
       "[2 rows x 26 columns]"
      ]
     },
     "execution_count": 138,
     "metadata": {},
     "output_type": "execute_result"
    }
   ],
   "source": [
    "df[df['RequiredCarParkingSpaces'] == 8]"
   ]
  },
  {
   "cell_type": "markdown",
   "metadata": {},
   "source": [
    "## Feature Engineering"
   ]
  },
  {
   "cell_type": "code",
   "execution_count": 90,
   "metadata": {},
   "outputs": [],
   "source": [
    "# Taking into consideration the total number of guest per booking\n",
    "df['totalMembers'] = df.Adults + df.Babies + df.Children\n",
    "\n",
    "# Checking if the room reserved and the room assigned is the same\n",
    "df['roomDiff'] = np.where (df.AssignedRoomType  == df.ReservedRoomType, 0, 1)\n",
    "\n",
    "# Taking the sum of total stay days rather than weekend and weekdays seperate\n",
    "df['totalStayDays'] = df.StaysInWeekNights + df.StaysInWeekendNights\n",
    "\n",
    "# Assumption: If there are adults with children or babies, it is a family. Storing this information in a boolean attribute\n",
    "df['isFamily'] = np.where((df.Adults > 1) & ((df.Children > 0 )| (df.Babies > 0)),1 ,0) \n",
    "\n",
    "# The cancelation rate of a guest currently making a booking\n",
    "df['cancelRate'] = df['PreviousCancellations'] / (df['PreviousCancellations'] + df['PreviousBookingsNotCanceled'] ) * 100 \n",
    "\n",
    "# Using a boolean to track if the stay includes weekend or not\n",
    "df['isWeekend'] = np.where(df['StaysInWeekendNights']> 0, 1, 0)"
   ]
  },
  {
   "cell_type": "code",
   "execution_count": 329,
   "metadata": {},
   "outputs": [
    {
     "data": {
      "text/plain": [
       "(40060, 26)"
      ]
     },
     "execution_count": 329,
     "metadata": {},
     "output_type": "execute_result"
    }
   ],
   "source": [
    "df.shape"
   ]
  },
  {
   "cell_type": "markdown",
   "metadata": {},
   "source": [
    "## Data Cleaning"
   ]
  },
  {
   "cell_type": "markdown",
   "metadata": {},
   "source": [
    "We already know a few bookings dont have origin country information\n",
    "\n",
    "Checking if there are any values that do not make sense. \n",
    "\n",
    "<b> Rules: </b>\n",
    "- The total number of guests cannot be zero\n",
    "-  There can't be a repeated guest if he/she has no previous booking canceled/ not canceled\n",
    "- There shouldn't babies/children with no adults booking\n",
    "- The total number of days of stay should not be zero"
   ]
  },
  {
   "cell_type": "markdown",
   "metadata": {},
   "source": [
    "### Total Members"
   ]
  },
  {
   "cell_type": "code",
   "execution_count": 92,
   "metadata": {},
   "outputs": [],
   "source": [
    "df.loc[ df['totalMembers']==0, \"IsCanceled\"]\n",
    "# There are 13 rows where there are no guest booked and only 2 of them were canceled. \n",
    "\n",
    "# Creating a new dataframe that will hold our data for visualization \n",
    "# that is clean of all outlliers and wrong data based on our assumptions\n",
    "\n",
    "clean_df = df.loc[~(df['totalMembers']==0)]\n"
   ]
  },
  {
   "cell_type": "markdown",
   "metadata": {},
   "source": [
    "### Total Stay Days"
   ]
  },
  {
   "cell_type": "code",
   "execution_count": 93,
   "metadata": {},
   "outputs": [
    {
     "name": "stdout",
     "output_type": "stream",
     "text": [
      "       IsCanceled  StaysInWeekNights  StaysInWeekendNights  totalStayDays\n",
      "4127            1                  0                     0              0\n",
      "25333           1                  0                     0              0\n",
      "24660           1                  0                     0              0\n",
      "19823           1                  0                     0              0\n",
      "28550           1                  0                     0              0\n",
      "...           ...                ...                   ...            ...\n",
      "19605           0                  0                     0              0\n",
      "19604           0                  0                     0              0\n",
      "19593           0                  0                     0              0\n",
      "19579           0                  0                     0              0\n",
      "39852           0                  0                     0              0\n",
      "\n",
      "[384 rows x 4 columns]\n"
     ]
    },
    {
     "data": {
      "text/plain": [
       "(39666, 26)"
      ]
     },
     "execution_count": 93,
     "metadata": {},
     "output_type": "execute_result"
    }
   ],
   "source": [
    "print(df.loc[ df['totalStayDays']==0, [\"IsCanceled\", \"StaysInWeekNights\", \"StaysInWeekendNights\", \"totalStayDays\"]].sort_values(by=\"IsCanceled\",ascending =False))\n",
    "# There are 384 enteries where the booking was made for 0 days \n",
    "\n",
    "\n",
    "clean_df = clean_df.loc[~(clean_df['totalStayDays']==0)]\n",
    "\n"
   ]
  },
  {
   "cell_type": "code",
   "execution_count": 94,
   "metadata": {},
   "outputs": [
    {
     "name": "stdout",
     "output_type": "stream",
     "text": [
      "['BB       ' 'FB       ' 'HB       ' 'Undefined']\n"
     ]
    }
   ],
   "source": [
    "# Meal column has two factors which are the same, therefore lets combine them\n",
    "\n",
    "clean_df.Meal = np.where(clean_df.Meal == \"SC       \", \"Undefined\",clean_df['Meal'])\n",
    "print(clean_df.Meal.unique())"
   ]
  },
  {
   "cell_type": "code",
   "execution_count": 114,
   "metadata": {},
   "outputs": [
    {
     "data": {
      "text/plain": [
       "(1094, 26)"
      ]
     },
     "execution_count": 114,
     "metadata": {},
     "output_type": "execute_result"
    }
   ],
   "source": [
    "clean_df.cancelRate.fillna(0)\n",
    "clean_df[clean_df['cancelRate']>0].shape"
   ]
  },
  {
   "cell_type": "code",
   "execution_count": 330,
   "metadata": {},
   "outputs": [
    {
     "data": {
      "text/plain": [
       "(39666, 27)"
      ]
     },
     "execution_count": 330,
     "metadata": {},
     "output_type": "execute_result"
    }
   ],
   "source": [
    "clean_df.shape"
   ]
  },
  {
   "cell_type": "markdown",
   "metadata": {},
   "source": [
    "## Attribute Analysis  "
   ]
  },
  {
   "cell_type": "markdown",
   "metadata": {},
   "source": [
    "### Numeric Categories"
   ]
  },
  {
   "cell_type": "markdown",
   "metadata": {},
   "source": [
    "Lead Times"
   ]
  },
  {
   "cell_type": "code",
   "execution_count": 332,
   "metadata": {},
   "outputs": [
    {
     "data": {
      "image/png": "[encoded data removed]",
      "text/plain": [
       "<Figure size 1080x864 with 1 Axes>"
      ]
     },
     "metadata": {},
     "output_type": "display_data"
    }
   ],
   "source": [
    "clean_df['LeadTimeCat'] = pd.cut(clean_df.LeadTime, bins=[0,1,50,100,150,200,250,300,365,9999], labels=[0,1,2,3,4,5,6,7,8])\n",
    "clean_df.LeadTimeCat.fillna(7)\n",
    "clean_df.head() \n",
    "\n",
    "plt.figure(figsize=(15,12))\n",
    "sns.set_style(\"white\")\n",
    "# sns.countplot (x='LeadTimeCat', data=clean_df, hue='IsCanceled', palette=\"PuRd\")\n",
    "sns.boxplot (y='LeadTime', data=clean_df, x='IsCanceled', palette=\"Purples\")\n",
    "# sns.violinplot (y='LeadTime', data=clean_df[clean_df.LeadTime < 365], x='IsCanceled',palette=\"Greens\").set_title(\"Box Plot for Lead Time [Trimmed to only one year]\")\n",
    "plt.box(False)"
   ]
  },
  {
   "cell_type": "code",
   "execution_count": 296,
   "metadata": {},
   "outputs": [],
   "source": [
    "clean_df_trimmed = clean_df [ [ 'IsCanceled', 'LeadTime',  'Meal', 'Country', 'MarketSegment','IsRepeatedGuest', 'ReservedRoomType', 'AssignedRoomType','BookingChanges', 'DepositType', 'CustomerType', 'RequiredCarParkingSpaces', 'TotalOfSpecialRequests', 'totalMembers','roomDiff', 'totalStayDays', 'isFamily', 'cancelRate', 'isWeekend' ] ]\n"
   ]
  },
  {
   "cell_type": "code",
   "execution_count": 301,
   "metadata": {},
   "outputs": [
    {
     "data": {
      "text/html": [
       "<div>\n",
       "<style scoped>\n",
       "    .dataframe tbody tr th:only-of-type {\n",
       "        vertical-align: middle;\n",
       "    }\n",
       "\n",
       "    .dataframe tbody tr th {\n",
       "        vertical-align: top;\n",
       "    }\n",
       "\n",
       "    .dataframe thead th {\n",
       "        text-align: right;\n",
       "    }\n",
       "</style>\n",
       "<table border=\"1\" class=\"dataframe\">\n",
       "  <thead>\n",
       "    <tr style=\"text-align: right;\">\n",
       "      <th></th>\n",
       "      <th>IsCanceled</th>\n",
       "      <th>LeadTime</th>\n",
       "      <th>StaysInWeekendNights</th>\n",
       "      <th>StaysInWeekNights</th>\n",
       "      <th>Adults</th>\n",
       "      <th>Children</th>\n",
       "      <th>Babies</th>\n",
       "      <th>Meal</th>\n",
       "      <th>Country</th>\n",
       "      <th>MarketSegment</th>\n",
       "      <th>...</th>\n",
       "      <th>CustomerType</th>\n",
       "      <th>RequiredCarParkingSpaces</th>\n",
       "      <th>TotalOfSpecialRequests</th>\n",
       "      <th>totalMembers</th>\n",
       "      <th>roomDiff</th>\n",
       "      <th>totalStayDays</th>\n",
       "      <th>isFamily</th>\n",
       "      <th>cancelRate</th>\n",
       "      <th>isWeekend</th>\n",
       "      <th>LeadTimeCat</th>\n",
       "    </tr>\n",
       "  </thead>\n",
       "  <tbody>\n",
       "    <tr>\n",
       "      <th>4182</th>\n",
       "      <td>0</td>\n",
       "      <td>709</td>\n",
       "      <td>8</td>\n",
       "      <td>20</td>\n",
       "      <td>2</td>\n",
       "      <td>0</td>\n",
       "      <td>0</td>\n",
       "      <td>HB</td>\n",
       "      <td>GBR</td>\n",
       "      <td>Direct</td>\n",
       "      <td>...</td>\n",
       "      <td>Transient</td>\n",
       "      <td>0</td>\n",
       "      <td>0</td>\n",
       "      <td>2</td>\n",
       "      <td>0</td>\n",
       "      <td>28</td>\n",
       "      <td>0</td>\n",
       "      <td>NaN</td>\n",
       "      <td>1</td>\n",
       "      <td>8</td>\n",
       "    </tr>\n",
       "  </tbody>\n",
       "</table>\n",
       "<p>1 rows × 27 columns</p>\n",
       "</div>"
      ],
      "text/plain": [
       "      IsCanceled  LeadTime  StaysInWeekendNights  StaysInWeekNights  Adults  \\\n",
       "4182           0       709                     8                 20       2   \n",
       "\n",
       "      Children  Babies       Meal Country MarketSegment  ...  CustomerType  \\\n",
       "4182         0       0  HB            GBR        Direct  ...     Transient   \n",
       "\n",
       "      RequiredCarParkingSpaces  TotalOfSpecialRequests totalMembers roomDiff  \\\n",
       "4182                         0                       0            2        0   \n",
       "\n",
       "      totalStayDays isFamily cancelRate  isWeekend  LeadTimeCat  \n",
       "4182             28        0        NaN          1            8  \n",
       "\n",
       "[1 rows x 27 columns]"
      ]
     },
     "execution_count": 301,
     "metadata": {},
     "output_type": "execute_result"
    }
   ],
   "source": [
    "\n",
    "clean_df.groupby(\"IsCanceled\")['LeadTime'].describe()\n",
    "clean_df[clean_df.LeadTime == ]"
   ]
  },
  {
   "cell_type": "code",
   "execution_count": 325,
   "metadata": {},
   "outputs": [
    {
     "data": {
      "text/plain": [
       "IsCanceled  IsCanceled\n",
       "0           0             234\n",
       "1           1             207\n",
       "Name: IsCanceled, dtype: int64"
      ]
     },
     "execution_count": 325,
     "metadata": {},
     "output_type": "execute_result"
    }
   ],
   "source": [
    "clean_df_trimmed[clean_df_trimmed.LeadTime > 365 ].groupby('IsCanceled')['IsCanceled'].value_counts()"
   ]
  },
  {
   "cell_type": "markdown",
   "metadata": {},
   "source": [
    "Total days of stay"
   ]
  },
  {
   "cell_type": "code",
   "execution_count": 159,
   "metadata": {},
   "outputs": [
    {
     "data": {
      "text/plain": [
       "<matplotlib.axes._subplots.AxesSubplot at 0x7fa275c64e50>"
      ]
     },
     "execution_count": 159,
     "metadata": {},
     "output_type": "execute_result"
    },
    {
     "data": {
      "image/png": "[encoded data removed]",
      "text/plain": [
       "<Figure size 1080x864 with 1 Axes>"
      ]
     },
     "metadata": {
      "needs_background": "light"
     },
     "output_type": "display_data"
    }
   ],
   "source": [
    "plt.figure(figsize=(15,12))\n",
    "sns.boxplot (y='totalStayDays', data=clean_df, x='IsCanceled', palette=\"PuRd\")"
   ]
  },
  {
   "cell_type": "code",
   "execution_count": 162,
   "metadata": {},
   "outputs": [
    {
     "data": {
      "text/plain": [
       "Text(0.5, 1.0, 'Box Plot for Total Stay Days [Outliers clipped]')"
      ]
     },
     "execution_count": 162,
     "metadata": {},
     "output_type": "execute_result"
    },
    {
     "data": {
      "image/png": "[encoded data removed]",
      "text/plain": [
       "<Figure size 1080x864 with 1 Axes>"
      ]
     },
     "metadata": {
      "needs_background": "light"
     },
     "output_type": "display_data"
    }
   ],
   "source": [
    "plt.figure(figsize=(15,12))\n",
    "sns.boxplot (y='totalStayDays', data=clean_df[clean_df['totalStayDays'] < 12], x='IsCanceled', palette=\"Greens\").set_title(\"Box Plot for Total Stay Days [Outliers clipped]\")"
   ]
  },
  {
   "cell_type": "code",
   "execution_count": 171,
   "metadata": {},
   "outputs": [
    {
     "name": "stdout",
     "output_type": "stream",
     "text": [
      "isWeekend  IsCanceled\n",
      "0          0             10562\n",
      "           1              3233\n",
      "1          0             17994\n",
      "           1              7877\n",
      "Name: IsCanceled, dtype: int64\n"
     ]
    },
    {
     "data": {
      "text/plain": [
       "<matplotlib.axes._subplots.AxesSubplot at 0x7fa274743250>"
      ]
     },
     "execution_count": 171,
     "metadata": {},
     "output_type": "execute_result"
    },
    {
     "data": {
      "image/png": "[encoded data removed]",
      "text/plain": [
       "<Figure size 576x648 with 1 Axes>"
      ]
     },
     "metadata": {
      "needs_background": "light"
     },
     "output_type": "display_data"
    }
   ],
   "source": [
    "print(clean_df.groupby(['isWeekend'])['IsCanceled'].value_counts())\n",
    "\n",
    "plt.figure(figsize=(8,9))\n",
    "sns.countplot ( data=clean_df, x='isWeekend', hue=\"IsCanceled\", palette=\"Blues\")\n"
   ]
  },
  {
   "cell_type": "markdown",
   "metadata": {},
   "source": [
    "### Categorical Variables"
   ]
  },
  {
   "cell_type": "markdown",
   "metadata": {},
   "source": [
    "Is Canceled"
   ]
  },
  {
   "cell_type": "code",
   "execution_count": 174,
   "metadata": {},
   "outputs": [
    {
     "ename": "TypeError",
     "evalue": "distplot() got an unexpected keyword argument 'data'",
     "output_type": "error",
     "traceback": [
      "\u001b[0;31m---------------------------------------------------------------------------\u001b[0m",
      "\u001b[0;31mTypeError\u001b[0m                                 Traceback (most recent call last)",
      "\u001b[0;32m/var/folders/_d/8kjzjzcx01346wv0l8cjr6180000gn/T/ipykernel_56077/3774429463.py\u001b[0m in \u001b[0;36m<module>\u001b[0;34m\u001b[0m\n\u001b[1;32m      1\u001b[0m \u001b[0mbar\u001b[0m\u001b[0;34m,\u001b[0m\u001b[0max\u001b[0m \u001b[0;34m=\u001b[0m \u001b[0mplt\u001b[0m\u001b[0;34m.\u001b[0m\u001b[0msubplots\u001b[0m\u001b[0;34m(\u001b[0m\u001b[0mfigsize\u001b[0m\u001b[0;34m=\u001b[0m\u001b[0;34m(\u001b[0m\u001b[0;36m10\u001b[0m\u001b[0;34m,\u001b[0m\u001b[0;36m6\u001b[0m\u001b[0;34m)\u001b[0m\u001b[0;34m)\u001b[0m\u001b[0;34m\u001b[0m\u001b[0;34m\u001b[0m\u001b[0m\n\u001b[0;32m----> 2\u001b[0;31m \u001b[0max\u001b[0m \u001b[0;34m=\u001b[0m \u001b[0msns\u001b[0m\u001b[0;34m.\u001b[0m\u001b[0mdistplot\u001b[0m\u001b[0;34m(\u001b[0m\u001b[0mx\u001b[0m\u001b[0;34m=\u001b[0m\u001b[0;34m'IsCanceled'\u001b[0m\u001b[0;34m,\u001b[0m \u001b[0mdata\u001b[0m\u001b[0;34m=\u001b[0m\u001b[0mclean_df\u001b[0m\u001b[0;34m,\u001b[0m \u001b[0mpalette\u001b[0m\u001b[0;34m=\u001b[0m\u001b[0;34m\"muted\"\u001b[0m\u001b[0;34m,\u001b[0m \u001b[0mkind\u001b[0m\u001b[0;34m=\u001b[0m\u001b[0;34m\"hist\"\u001b[0m\u001b[0;34m,\u001b[0m \u001b[0;34m)\u001b[0m\u001b[0;34m\u001b[0m\u001b[0;34m\u001b[0m\u001b[0m\n\u001b[0m\u001b[1;32m      3\u001b[0m \u001b[0max\u001b[0m\u001b[0;34m.\u001b[0m\u001b[0mset_title\u001b[0m\u001b[0;34m(\u001b[0m\u001b[0;34m\"Pie chart approximation in Seaborn - Total Tip by Delivery Type\"\u001b[0m\u001b[0;34m,\u001b[0m \u001b[0mfontsize\u001b[0m\u001b[0;34m=\u001b[0m\u001b[0;36m15\u001b[0m\u001b[0;34m)\u001b[0m\u001b[0;34m\u001b[0m\u001b[0;34m\u001b[0m\u001b[0m\n\u001b[1;32m      4\u001b[0m \u001b[0max\u001b[0m\u001b[0;34m.\u001b[0m\u001b[0mset_xlabel\u001b[0m \u001b[0;34m(\u001b[0m\u001b[0;34m\"Delivery Type\"\u001b[0m\u001b[0;34m)\u001b[0m\u001b[0;34m\u001b[0m\u001b[0;34m\u001b[0m\u001b[0m\n\u001b[1;32m      5\u001b[0m \u001b[0max\u001b[0m\u001b[0;34m.\u001b[0m\u001b[0mset_ylabel\u001b[0m \u001b[0;34m(\u001b[0m\u001b[0;34m\"Percentage\"\u001b[0m\u001b[0;34m)\u001b[0m\u001b[0;34m\u001b[0m\u001b[0;34m\u001b[0m\u001b[0m\n",
      "\u001b[0;31mTypeError\u001b[0m: distplot() got an unexpected keyword argument 'data'"
     ]
    },
    {
     "data": {
      "image/png": "[encoded data removed]",
      "text/plain": [
       "<Figure size 720x432 with 1 Axes>"
      ]
     },
     "metadata": {
      "needs_background": "light"
     },
     "output_type": "display_data"
    }
   ],
   "source": [
    "\n",
    "bar,ax = plt.subplots(figsize=(10,6))\n",
    "ax = sns.distplot(x='IsCanceled', data=clean_df, palette=\"muted\", kind=\"hist\", )\n",
    "ax.set_title(\"Pie chart approximation in Seaborn - Total Tip by Delivery Type\", fontsize=15)\n",
    "\n",
    "# calculate the percentages and annotate the sns barplot\n",
    "for rect in ax.patches:\n",
    "    ax.text (rect.get_x() + rect.get_width() / 2,rect.get_height(),\"%.1f%%\"% rect.get_height(), weight='bold' )\n"
   ]
  },
  {
   "cell_type": "code",
   "execution_count": 311,
   "metadata": {},
   "outputs": [
    {
     "data": {
      "text/plain": [
       "LeadTime  IsCanceled\n",
       "0         0             14\n",
       "          1              3\n",
       "1         0              6\n",
       "          1              4\n",
       "2         0             12\n",
       "                        ..\n",
       "462       1             20\n",
       "468       1             30\n",
       "          0             17\n",
       "471       1              6\n",
       "542       0             23\n",
       "Name: IsCanceled, Length: 396, dtype: int64"
      ]
     },
     "execution_count": 311,
     "metadata": {},
     "output_type": "execute_result"
    }
   ],
   "source": [
    "clean_df[clean_df.MarketSegment == 'Groups'].groupby('LeadTime')['IsCanceled'].value_counts()"
   ]
  },
  {
   "cell_type": "code",
   "execution_count": 337,
   "metadata": {},
   "outputs": [],
   "source": [
    "def with_hue(plot, feature, Number_of_categories, hue_categories):\n",
    "    a = [p.get_height() for p in plot.patches]\n",
    "    patch = [p for p in plot.patches]\n",
    "    for i in range(Number_of_categories):\n",
    "        total = feature.value_counts().values[i]\n",
    "        for j in range(hue_categories):\n",
    "            percentage = '{:.1f}%'.format(100 * a[(j*Number_of_categories + i)]/total)\n",
    "            x = patch[(j*Number_of_categories + i)].get_x() + patch[(j*Number_of_categories + i)].get_width() / 2 - 0.15\n",
    "            y = patch[(j*Number_of_categories + i)].get_y() + patch[(j*Number_of_categories + i)].get_height() \n",
    "            ax.annotate(percentage, (x, y+400), size = 12)\n",
    "    plt.show()"
   ]
  },
  {
   "cell_type": "code",
   "execution_count": 341,
   "metadata": {},
   "outputs": [
    {
     "data": {
      "image/png": "[encoded data removed]",
      "text/plain": [
       "<Figure size 1080x864 with 1 Axes>"
      ]
     },
     "metadata": {},
     "output_type": "display_data"
    }
   ],
   "source": [
    "f, ax = plt.subplots(figsize=(15,12))\n",
    "sns.set_style('white')\n",
    "plt.box(False)\n",
    "s = sns.boxplot(x = \"isWeekend\",  y = 'LeadTime', data=clean_df , hue=\"IsCanceled\",palette=\"PuOr\")\n",
    "# with_hue(s,clean_df.isWeekend, 2, 2)"
   ]
  },
  {
   "cell_type": "code",
   "execution_count": null,
   "metadata": {},
   "outputs": [],
   "source": []
  }
 ],
 "metadata": {
  "interpreter": {
   "hash": "31f2aee4e71d21fbe5cf8b01ff0e069b9275f58929596ceb00d14d90e3e16cd6"
  },
  "kernelspec": {
   "display_name": "Python 3.8.9 64-bit",
   "language": "python",
   "name": "python3"
  },
  "language_info": {
   "codemirror_mode": {
    "name": "ipython",
    "version": 3
   },
   "file_extension": ".py",
   "mimetype": "text/x-python",
   "name": "python",
   "nbconvert_exporter": "python",
   "pygments_lexer": "ipython3",
   "version": "3.8.1"
  },
  "orig_nbformat": 4
 },
 "nbformat": 4,
 "nbformat_minor": 2
}
